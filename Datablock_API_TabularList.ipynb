{
  "nbformat": 4,
  "nbformat_minor": 0,
  "metadata": {
    "kernelspec": {
      "name": "python3",
      "display_name": "Python 3"
    },
    "language_info": {
      "codemirror_mode": {
        "name": "ipython",
        "version": 3
      },
      "file_extension": ".py",
      "mimetype": "text/x-python",
      "name": "python",
      "nbconvert_exporter": "python",
      "pygments_lexer": "ipython3",
      "version": "3.7.4"
    },
    "colab": {
      "name": "Datablock_API_TabularList.ipynb",
      "provenance": [],
      "collapsed_sections": [],
      "toc_visible": true
    },
    "accelerator": "GPU"
  },
  "cells": [
    {
      "cell_type": "code",
      "metadata": {
        "id": "c0fPmgam1Eod",
        "colab_type": "code",
        "outputId": "bef08908-4f73-48cb-f6db-e17b0df2aa7a",
        "colab": {
          "base_uri": "https://localhost:8080/",
          "height": 51
        }
      },
      "source": [
        "  !curl -s https://course.fast.ai/setup/colab | bash"
      ],
      "execution_count": 0,
      "outputs": [
        {
          "output_type": "stream",
          "text": [
            "Updating fastai...\n",
            "Done.\n"
          ],
          "name": "stdout"
        }
      ]
    },
    {
      "cell_type": "code",
      "metadata": {
        "id": "7pcDGcmw1Fjs",
        "colab_type": "code",
        "colab": {}
      },
      "source": [
        "%reload_ext autoreload\n",
        "%autoreload 2\n",
        "%matplotlib inline"
      ],
      "execution_count": 0,
      "outputs": []
    },
    {
      "cell_type": "code",
      "metadata": {
        "id": "jbf6AsKK1JPu",
        "colab_type": "code",
        "colab": {}
      },
      "source": [
        "from fastai.tabular import *"
      ],
      "execution_count": 0,
      "outputs": []
    },
    {
      "cell_type": "code",
      "metadata": {
        "id": "rgy8BEWG1cej",
        "colab_type": "code",
        "colab": {}
      },
      "source": [
        "from fastai import *"
      ],
      "execution_count": 0,
      "outputs": []
    },
    {
      "cell_type": "code",
      "metadata": {
        "id": "KqDFIRnmTSwh",
        "colab_type": "code",
        "colab": {}
      },
      "source": [
        "import sys\n",
        "import numpy\n",
        "numpy.set_printoptions(threshold=sys.maxsize)"
      ],
      "execution_count": 0,
      "outputs": []
    },
    {
      "cell_type": "code",
      "metadata": {
        "id": "g93FaXao3Ve-",
        "colab_type": "code",
        "colab": {}
      },
      "source": [
        "import pandas as pd\n",
        "import matplotlib.pyplot as plt"
      ],
      "execution_count": 0,
      "outputs": []
    },
    {
      "cell_type": "code",
      "metadata": {
        "id": "zsRUe70U1kBe",
        "colab_type": "code",
        "colab": {}
      },
      "source": [
        "import warnings\n",
        "warnings.filterwarnings(\"ignore\", category=UserWarning, module=\"torch.nn.functional\")"
      ],
      "execution_count": 0,
      "outputs": []
    },
    {
      "cell_type": "code",
      "metadata": {
        "id": "4vjDcplW6zuU",
        "colab_type": "code",
        "outputId": "b483d4c9-b99a-47c8-ffb6-68f3cd5ec226",
        "colab": {
          "base_uri": "https://localhost:8080/",
          "height": 34
        }
      },
      "source": [
        "untar_data(URLs.ADULT_SAMPLE)"
      ],
      "execution_count": 0,
      "outputs": [
        {
          "output_type": "execute_result",
          "data": {
            "text/plain": [
              "PosixPath('/root/.fastai/data/adult_sample')"
            ]
          },
          "metadata": {
            "tags": []
          },
          "execution_count": 8
        }
      ]
    },
    {
      "cell_type": "code",
      "metadata": {
        "id": "2F8ndWb82ojw",
        "colab_type": "code",
        "colab": {}
      },
      "source": [
        "path = Config().data_path()"
      ],
      "execution_count": 0,
      "outputs": []
    },
    {
      "cell_type": "code",
      "metadata": {
        "id": "-yvFNE6c66xl",
        "colab_type": "code",
        "colab": {}
      },
      "source": [
        "path = path/'adult_sample'"
      ],
      "execution_count": 0,
      "outputs": []
    },
    {
      "cell_type": "code",
      "metadata": {
        "id": "vtMz-7aG38Fd",
        "colab_type": "code",
        "outputId": "fe80cfc2-c9ee-48fa-e766-0ac7bf9013b7",
        "colab": {
          "base_uri": "https://localhost:8080/",
          "height": 68
        }
      },
      "source": [
        "path.ls()"
      ],
      "execution_count": 0,
      "outputs": [
        {
          "output_type": "execute_result",
          "data": {
            "text/plain": [
              "[PosixPath('/root/.fastai/data/adult_sample/adult.csv'),\n",
              " PosixPath('/root/.fastai/data/adult_sample/export.pkl'),\n",
              " PosixPath('/root/.fastai/data/adult_sample/models')]"
            ]
          },
          "metadata": {
            "tags": []
          },
          "execution_count": 11
        }
      ]
    },
    {
      "cell_type": "code",
      "metadata": {
        "id": "XO0_sEPi4B0J",
        "colab_type": "code",
        "colab": {}
      },
      "source": [
        "adult_df = pd.read_csv(path/'adult.csv')"
      ],
      "execution_count": 0,
      "outputs": []
    },
    {
      "cell_type": "code",
      "metadata": {
        "id": "JstEaF-a7Xzm",
        "colab_type": "code",
        "colab": {}
      },
      "source": [
        "# del dataframe - to delete any unwanted dataframes.  "
      ],
      "execution_count": 0,
      "outputs": []
    },
    {
      "cell_type": "code",
      "metadata": {
        "id": "KvwuiNor4swK",
        "colab_type": "code",
        "outputId": "d395822a-6186-4179-9b2a-b2b6d82c7ba9",
        "colab": {
          "base_uri": "https://localhost:8080/",
          "height": 360
        }
      },
      "source": [
        "adult_df.head()"
      ],
      "execution_count": 0,
      "outputs": [
        {
          "output_type": "execute_result",
          "data": {
            "text/html": [
              "<div>\n",
              "<style scoped>\n",
              "    .dataframe tbody tr th:only-of-type {\n",
              "        vertical-align: middle;\n",
              "    }\n",
              "\n",
              "    .dataframe tbody tr th {\n",
              "        vertical-align: top;\n",
              "    }\n",
              "\n",
              "    .dataframe thead th {\n",
              "        text-align: right;\n",
              "    }\n",
              "</style>\n",
              "<table border=\"1\" class=\"dataframe\">\n",
              "  <thead>\n",
              "    <tr style=\"text-align: right;\">\n",
              "      <th></th>\n",
              "      <th>age</th>\n",
              "      <th>workclass</th>\n",
              "      <th>fnlwgt</th>\n",
              "      <th>education</th>\n",
              "      <th>education-num</th>\n",
              "      <th>marital-status</th>\n",
              "      <th>occupation</th>\n",
              "      <th>relationship</th>\n",
              "      <th>race</th>\n",
              "      <th>sex</th>\n",
              "      <th>capital-gain</th>\n",
              "      <th>capital-loss</th>\n",
              "      <th>hours-per-week</th>\n",
              "      <th>native-country</th>\n",
              "      <th>salary</th>\n",
              "    </tr>\n",
              "  </thead>\n",
              "  <tbody>\n",
              "    <tr>\n",
              "      <th>0</th>\n",
              "      <td>49</td>\n",
              "      <td>Private</td>\n",
              "      <td>101320</td>\n",
              "      <td>Assoc-acdm</td>\n",
              "      <td>12.0</td>\n",
              "      <td>Married-civ-spouse</td>\n",
              "      <td>NaN</td>\n",
              "      <td>Wife</td>\n",
              "      <td>White</td>\n",
              "      <td>Female</td>\n",
              "      <td>0</td>\n",
              "      <td>1902</td>\n",
              "      <td>40</td>\n",
              "      <td>United-States</td>\n",
              "      <td>&gt;=50k</td>\n",
              "    </tr>\n",
              "    <tr>\n",
              "      <th>1</th>\n",
              "      <td>44</td>\n",
              "      <td>Private</td>\n",
              "      <td>236746</td>\n",
              "      <td>Masters</td>\n",
              "      <td>14.0</td>\n",
              "      <td>Divorced</td>\n",
              "      <td>Exec-managerial</td>\n",
              "      <td>Not-in-family</td>\n",
              "      <td>White</td>\n",
              "      <td>Male</td>\n",
              "      <td>10520</td>\n",
              "      <td>0</td>\n",
              "      <td>45</td>\n",
              "      <td>United-States</td>\n",
              "      <td>&gt;=50k</td>\n",
              "    </tr>\n",
              "    <tr>\n",
              "      <th>2</th>\n",
              "      <td>38</td>\n",
              "      <td>Private</td>\n",
              "      <td>96185</td>\n",
              "      <td>HS-grad</td>\n",
              "      <td>NaN</td>\n",
              "      <td>Divorced</td>\n",
              "      <td>NaN</td>\n",
              "      <td>Unmarried</td>\n",
              "      <td>Black</td>\n",
              "      <td>Female</td>\n",
              "      <td>0</td>\n",
              "      <td>0</td>\n",
              "      <td>32</td>\n",
              "      <td>United-States</td>\n",
              "      <td>&lt;50k</td>\n",
              "    </tr>\n",
              "    <tr>\n",
              "      <th>3</th>\n",
              "      <td>38</td>\n",
              "      <td>Self-emp-inc</td>\n",
              "      <td>112847</td>\n",
              "      <td>Prof-school</td>\n",
              "      <td>15.0</td>\n",
              "      <td>Married-civ-spouse</td>\n",
              "      <td>Prof-specialty</td>\n",
              "      <td>Husband</td>\n",
              "      <td>Asian-Pac-Islander</td>\n",
              "      <td>Male</td>\n",
              "      <td>0</td>\n",
              "      <td>0</td>\n",
              "      <td>40</td>\n",
              "      <td>United-States</td>\n",
              "      <td>&gt;=50k</td>\n",
              "    </tr>\n",
              "    <tr>\n",
              "      <th>4</th>\n",
              "      <td>42</td>\n",
              "      <td>Self-emp-not-inc</td>\n",
              "      <td>82297</td>\n",
              "      <td>7th-8th</td>\n",
              "      <td>NaN</td>\n",
              "      <td>Married-civ-spouse</td>\n",
              "      <td>Other-service</td>\n",
              "      <td>Wife</td>\n",
              "      <td>Black</td>\n",
              "      <td>Female</td>\n",
              "      <td>0</td>\n",
              "      <td>0</td>\n",
              "      <td>50</td>\n",
              "      <td>United-States</td>\n",
              "      <td>&lt;50k</td>\n",
              "    </tr>\n",
              "  </tbody>\n",
              "</table>\n",
              "</div>"
            ],
            "text/plain": [
              "   age          workclass  fnlwgt  ... hours-per-week  native-country salary\n",
              "0   49            Private  101320  ...             40   United-States  >=50k\n",
              "1   44            Private  236746  ...             45   United-States  >=50k\n",
              "2   38            Private   96185  ...             32   United-States   <50k\n",
              "3   38       Self-emp-inc  112847  ...             40   United-States  >=50k\n",
              "4   42   Self-emp-not-inc   82297  ...             50   United-States   <50k\n",
              "\n",
              "[5 rows x 15 columns]"
            ]
          },
          "metadata": {
            "tags": []
          },
          "execution_count": 14
        }
      ]
    },
    {
      "cell_type": "code",
      "metadata": {
        "id": "gZmnmZvO8KzK",
        "colab_type": "code",
        "colab": {}
      },
      "source": [
        "# Data looks like a table in a dataframe. This is a very simple usecase.\n",
        "# But in essence a dataframe of \"anything\" is still a table with rows and columns. "
      ],
      "execution_count": 0,
      "outputs": []
    },
    {
      "cell_type": "code",
      "metadata": {
        "id": "iYvpQJTd8dm_",
        "colab_type": "code",
        "outputId": "b76194bb-7243-4ef7-f507-d69a4fc103eb",
        "colab": {
          "base_uri": "https://localhost:8080/",
          "height": 408
        }
      },
      "source": [
        "adult_df.iloc[0:6]"
      ],
      "execution_count": 0,
      "outputs": [
        {
          "output_type": "execute_result",
          "data": {
            "text/html": [
              "<div>\n",
              "<style scoped>\n",
              "    .dataframe tbody tr th:only-of-type {\n",
              "        vertical-align: middle;\n",
              "    }\n",
              "\n",
              "    .dataframe tbody tr th {\n",
              "        vertical-align: top;\n",
              "    }\n",
              "\n",
              "    .dataframe thead th {\n",
              "        text-align: right;\n",
              "    }\n",
              "</style>\n",
              "<table border=\"1\" class=\"dataframe\">\n",
              "  <thead>\n",
              "    <tr style=\"text-align: right;\">\n",
              "      <th></th>\n",
              "      <th>age</th>\n",
              "      <th>workclass</th>\n",
              "      <th>fnlwgt</th>\n",
              "      <th>education</th>\n",
              "      <th>education-num</th>\n",
              "      <th>marital-status</th>\n",
              "      <th>occupation</th>\n",
              "      <th>relationship</th>\n",
              "      <th>race</th>\n",
              "      <th>sex</th>\n",
              "      <th>capital-gain</th>\n",
              "      <th>capital-loss</th>\n",
              "      <th>hours-per-week</th>\n",
              "      <th>native-country</th>\n",
              "      <th>salary</th>\n",
              "    </tr>\n",
              "  </thead>\n",
              "  <tbody>\n",
              "    <tr>\n",
              "      <th>0</th>\n",
              "      <td>49</td>\n",
              "      <td>Private</td>\n",
              "      <td>101320</td>\n",
              "      <td>Assoc-acdm</td>\n",
              "      <td>12.0</td>\n",
              "      <td>Married-civ-spouse</td>\n",
              "      <td>NaN</td>\n",
              "      <td>Wife</td>\n",
              "      <td>White</td>\n",
              "      <td>Female</td>\n",
              "      <td>0</td>\n",
              "      <td>1902</td>\n",
              "      <td>40</td>\n",
              "      <td>United-States</td>\n",
              "      <td>&gt;=50k</td>\n",
              "    </tr>\n",
              "    <tr>\n",
              "      <th>1</th>\n",
              "      <td>44</td>\n",
              "      <td>Private</td>\n",
              "      <td>236746</td>\n",
              "      <td>Masters</td>\n",
              "      <td>14.0</td>\n",
              "      <td>Divorced</td>\n",
              "      <td>Exec-managerial</td>\n",
              "      <td>Not-in-family</td>\n",
              "      <td>White</td>\n",
              "      <td>Male</td>\n",
              "      <td>10520</td>\n",
              "      <td>0</td>\n",
              "      <td>45</td>\n",
              "      <td>United-States</td>\n",
              "      <td>&gt;=50k</td>\n",
              "    </tr>\n",
              "    <tr>\n",
              "      <th>2</th>\n",
              "      <td>38</td>\n",
              "      <td>Private</td>\n",
              "      <td>96185</td>\n",
              "      <td>HS-grad</td>\n",
              "      <td>NaN</td>\n",
              "      <td>Divorced</td>\n",
              "      <td>NaN</td>\n",
              "      <td>Unmarried</td>\n",
              "      <td>Black</td>\n",
              "      <td>Female</td>\n",
              "      <td>0</td>\n",
              "      <td>0</td>\n",
              "      <td>32</td>\n",
              "      <td>United-States</td>\n",
              "      <td>&lt;50k</td>\n",
              "    </tr>\n",
              "    <tr>\n",
              "      <th>3</th>\n",
              "      <td>38</td>\n",
              "      <td>Self-emp-inc</td>\n",
              "      <td>112847</td>\n",
              "      <td>Prof-school</td>\n",
              "      <td>15.0</td>\n",
              "      <td>Married-civ-spouse</td>\n",
              "      <td>Prof-specialty</td>\n",
              "      <td>Husband</td>\n",
              "      <td>Asian-Pac-Islander</td>\n",
              "      <td>Male</td>\n",
              "      <td>0</td>\n",
              "      <td>0</td>\n",
              "      <td>40</td>\n",
              "      <td>United-States</td>\n",
              "      <td>&gt;=50k</td>\n",
              "    </tr>\n",
              "    <tr>\n",
              "      <th>4</th>\n",
              "      <td>42</td>\n",
              "      <td>Self-emp-not-inc</td>\n",
              "      <td>82297</td>\n",
              "      <td>7th-8th</td>\n",
              "      <td>NaN</td>\n",
              "      <td>Married-civ-spouse</td>\n",
              "      <td>Other-service</td>\n",
              "      <td>Wife</td>\n",
              "      <td>Black</td>\n",
              "      <td>Female</td>\n",
              "      <td>0</td>\n",
              "      <td>0</td>\n",
              "      <td>50</td>\n",
              "      <td>United-States</td>\n",
              "      <td>&lt;50k</td>\n",
              "    </tr>\n",
              "    <tr>\n",
              "      <th>5</th>\n",
              "      <td>20</td>\n",
              "      <td>Private</td>\n",
              "      <td>63210</td>\n",
              "      <td>HS-grad</td>\n",
              "      <td>9.0</td>\n",
              "      <td>Never-married</td>\n",
              "      <td>Handlers-cleaners</td>\n",
              "      <td>Own-child</td>\n",
              "      <td>White</td>\n",
              "      <td>Male</td>\n",
              "      <td>0</td>\n",
              "      <td>0</td>\n",
              "      <td>15</td>\n",
              "      <td>United-States</td>\n",
              "      <td>&lt;50k</td>\n",
              "    </tr>\n",
              "  </tbody>\n",
              "</table>\n",
              "</div>"
            ],
            "text/plain": [
              "   age          workclass  fnlwgt  ... hours-per-week  native-country salary\n",
              "0   49            Private  101320  ...             40   United-States  >=50k\n",
              "1   44            Private  236746  ...             45   United-States  >=50k\n",
              "2   38            Private   96185  ...             32   United-States   <50k\n",
              "3   38       Self-emp-inc  112847  ...             40   United-States  >=50k\n",
              "4   42   Self-emp-not-inc   82297  ...             50   United-States   <50k\n",
              "5   20            Private   63210  ...             15   United-States   <50k\n",
              "\n",
              "[6 rows x 15 columns]"
            ]
          },
          "metadata": {
            "tags": []
          },
          "execution_count": 16
        }
      ]
    },
    {
      "cell_type": "markdown",
      "metadata": {
        "id": "peEdJqcP_EG0",
        "colab_type": "text"
      },
      "source": [
        "Below are the columns in the dataframe. We will use some columns as input columns. We will use some inputs as Categorical Variables(ones with countable discrete values) and some as Continuous variables(one which are not discrete and can have values ranging from 0 to anything if its a number). \n",
        "\n",
        "We are going to predict Salary here and hence that is the output or y variable or dependent variable. \n",
        "\n",
        "age\t\n",
        "workclass\t\n",
        "fnlwgt\t\n",
        "education\t\n",
        "education-num\t\n",
        "marital-status\t\n",
        "occupation\t\n",
        "relationship\t\n",
        "race\t\n",
        "sex\t\n",
        "capital-gain\t\n",
        "capital-loss\t\n",
        "hours-per-week\t\n",
        "native-country\t\n",
        "salary"
      ]
    },
    {
      "cell_type": "code",
      "metadata": {
        "id": "iwXXyQGf_qH5",
        "colab_type": "code",
        "outputId": "c87e7948-5557-4466-b666-644005055764",
        "colab": {
          "base_uri": "https://localhost:8080/",
          "height": 34
        }
      },
      "source": [
        "adult_df.shape"
      ],
      "execution_count": 0,
      "outputs": [
        {
          "output_type": "execute_result",
          "data": {
            "text/plain": [
              "(32561, 15)"
            ]
          },
          "metadata": {
            "tags": []
          },
          "execution_count": 17
        }
      ]
    },
    {
      "cell_type": "markdown",
      "metadata": {
        "id": "h4ZHUYvKAeWD",
        "colab_type": "text"
      },
      "source": [
        "This says that there are 32561 rows and 15 columns"
      ]
    },
    {
      "cell_type": "code",
      "metadata": {
        "id": "q5SGPFhB-36_",
        "colab_type": "code",
        "colab": {}
      },
      "source": [
        "dep_var = 'salary'\n",
        "cat_names = ['workclass', 'education', 'marital-status', 'occupation', 'relationship', 'race']\n",
        "cont_names = ['age', 'fnlwgt', 'education-num']\n",
        "procs = [FillMissing, Categorify, Normalize]"
      ],
      "execution_count": 0,
      "outputs": []
    },
    {
      "cell_type": "markdown",
      "metadata": {
        "id": "IkPh43_hAmAk",
        "colab_type": "text"
      },
      "source": [
        "procs are nothing but preprocessors. They are used to do one time activity before loading the data into other data objects further. \n",
        "\n",
        "Here we are using FillMissing, Categorify and Normalize. There are many other preprocessors. "
      ]
    },
    {
      "cell_type": "code",
      "metadata": {
        "id": "Bv6Kj7HxCDc3",
        "colab_type": "code",
        "colab": {}
      },
      "source": [
        "data = (TabularList.from_df(adult_df, path=path, cat_names=cat_names, cont_names=cont_names, procs=procs))"
      ],
      "execution_count": 0,
      "outputs": []
    },
    {
      "cell_type": "markdown",
      "metadata": {
        "id": "QNW-mKCqC9Bu",
        "colab_type": "text"
      },
      "source": [
        "Below is the definition of TabularList class. It is a subclass of ItemList class. Both are fastai classes\n",
        "\n",
        "TabularList(items:Iterator[T_co], cat_names:OptStrList=None, cont_names:OptStrList=None, procs=None, **kwargs) → TabularList :: ItemList"
      ]
    },
    {
      "cell_type": "code",
      "metadata": {
        "id": "DZD2ZLrncg-q",
        "colab_type": "code",
        "outputId": "76b55e03-db97-4f37-fb40-0064f6c01f8b",
        "colab": {
          "base_uri": "https://localhost:8080/",
          "height": 34
        }
      },
      "source": [
        "type(data)\n"
      ],
      "execution_count": 0,
      "outputs": [
        {
          "output_type": "execute_result",
          "data": {
            "text/plain": [
              "fastai.tabular.data.TabularList"
            ]
          },
          "metadata": {
            "tags": []
          },
          "execution_count": 20
        }
      ]
    },
    {
      "cell_type": "markdown",
      "metadata": {
        "id": "hw0h2MrJrzwM",
        "colab_type": "text"
      },
      "source": [
        "Fastai TabularList contains multiple types of objects. Below are the details"
      ]
    },
    {
      "cell_type": "code",
      "metadata": {
        "id": "bsEpepnEjC4b",
        "colab_type": "code",
        "outputId": "03df3db7-b303-4f20-cc46-20589b6d8042",
        "colab": {
          "base_uri": "https://localhost:8080/",
          "height": 34
        }
      },
      "source": [
        "type(data.get(1))"
      ],
      "execution_count": 0,
      "outputs": [
        {
          "output_type": "execute_result",
          "data": {
            "text/plain": [
              "pandas.core.series.Series"
            ]
          },
          "metadata": {
            "tags": []
          },
          "execution_count": 21
        }
      ]
    },
    {
      "cell_type": "code",
      "metadata": {
        "id": "_Dvk3nbGntF4",
        "colab_type": "code",
        "outputId": "72ae2b13-0e20-4f14-87b7-795f0de8cd83",
        "colab": {
          "base_uri": "https://localhost:8080/",
          "height": 289
        }
      },
      "source": [
        "data.get(1)"
      ],
      "execution_count": 0,
      "outputs": [
        {
          "output_type": "execute_result",
          "data": {
            "text/plain": [
              "age                             44\n",
              "workclass                  Private\n",
              "fnlwgt                      236746\n",
              "education                  Masters\n",
              "education-num                   14\n",
              "marital-status            Divorced\n",
              "occupation         Exec-managerial\n",
              "relationship         Not-in-family\n",
              "race                         White\n",
              "sex                           Male\n",
              "capital-gain                 10520\n",
              "capital-loss                     0\n",
              "hours-per-week                  45\n",
              "native-country       United-States\n",
              "salary                       >=50k\n",
              "Name: 1, dtype: object"
            ]
          },
          "metadata": {
            "tags": []
          },
          "execution_count": 22
        }
      ]
    },
    {
      "cell_type": "markdown",
      "metadata": {
        "id": "mFs7rh2Xn-e-",
        "colab_type": "text"
      },
      "source": [
        "Pandas Series is a one-dimensional labeled array capable of holding data of any type  and in this case it is a series of objects."
      ]
    },
    {
      "cell_type": "markdown",
      "metadata": {
        "id": "aPwmdR81tRjZ",
        "colab_type": "text"
      },
      "source": [
        "The Dtype object is a pandas datatype. It basically says that there are multiple types of data in that object. \n",
        "Age is a number and workclass is a string and so on."
      ]
    },
    {
      "cell_type": "code",
      "metadata": {
        "id": "f6SrzMqIshzm",
        "colab_type": "code",
        "outputId": "901c9f63-7c16-4076-9010-72657aba2d6a",
        "colab": {
          "base_uri": "https://localhost:8080/",
          "height": 34
        }
      },
      "source": [
        "type(data.get(1).workclass)"
      ],
      "execution_count": 0,
      "outputs": [
        {
          "output_type": "execute_result",
          "data": {
            "text/plain": [
              "str"
            ]
          },
          "metadata": {
            "tags": []
          },
          "execution_count": 23
        }
      ]
    },
    {
      "cell_type": "code",
      "metadata": {
        "id": "F9H7gQAHswiF",
        "colab_type": "code",
        "outputId": "39ecc277-1019-4c70-f59a-d9075ce6b63c",
        "colab": {
          "base_uri": "https://localhost:8080/",
          "height": 34
        }
      },
      "source": [
        "type(data.get(1).age)"
      ],
      "execution_count": 0,
      "outputs": [
        {
          "output_type": "execute_result",
          "data": {
            "text/plain": [
              "numpy.int64"
            ]
          },
          "metadata": {
            "tags": []
          },
          "execution_count": 24
        }
      ]
    },
    {
      "cell_type": "code",
      "metadata": {
        "id": "4ysuitTWCXk5",
        "colab_type": "code",
        "outputId": "ff041a52-4613-4bfd-f047-e2684598a0eb",
        "colab": {
          "base_uri": "https://localhost:8080/",
          "height": 34
        }
      },
      "source": [
        "type(data.items)"
      ],
      "execution_count": 0,
      "outputs": [
        {
          "output_type": "execute_result",
          "data": {
            "text/plain": [
              "numpy.ndarray"
            ]
          },
          "metadata": {
            "tags": []
          },
          "execution_count": 25
        }
      ]
    },
    {
      "cell_type": "code",
      "metadata": {
        "id": "EW16I9octtUR",
        "colab_type": "code",
        "outputId": "02585d68-337c-45c2-b785-f5beda7bd48f",
        "colab": {
          "base_uri": "https://localhost:8080/",
          "height": 34
        }
      },
      "source": [
        "data.items[1]"
      ],
      "execution_count": 0,
      "outputs": [
        {
          "output_type": "execute_result",
          "data": {
            "text/plain": [
              "1"
            ]
          },
          "metadata": {
            "tags": []
          },
          "execution_count": 26
        }
      ]
    },
    {
      "cell_type": "code",
      "metadata": {
        "id": "bzXgUfancCWW",
        "colab_type": "code",
        "outputId": "61f439fe-eda8-42d0-97e7-7ddddcdb4f02",
        "colab": {
          "base_uri": "https://localhost:8080/",
          "height": 34
        }
      },
      "source": [
        "data.items.shape"
      ],
      "execution_count": 0,
      "outputs": [
        {
          "output_type": "execute_result",
          "data": {
            "text/plain": [
              "(32561,)"
            ]
          },
          "metadata": {
            "tags": []
          },
          "execution_count": 27
        }
      ]
    },
    {
      "cell_type": "markdown",
      "metadata": {
        "id": "aU5O0YVksRjQ",
        "colab_type": "text"
      },
      "source": [
        "Items is a numpy multidimensional array. However in this case it is an one dimensional array."
      ]
    },
    {
      "cell_type": "markdown",
      "metadata": {
        "id": "vmeoFGZyuQRm",
        "colab_type": "text"
      },
      "source": [
        "TabularList object has two more lists, one for Continuous variable and one for Categorical variables."
      ]
    },
    {
      "cell_type": "code",
      "metadata": {
        "id": "vqbE_puIkToV",
        "colab_type": "code",
        "outputId": "ee496efb-9136-4408-a5bd-835070163eef",
        "colab": {
          "base_uri": "https://localhost:8080/",
          "height": 289
        }
      },
      "source": [
        "data.get(data.items[1])"
      ],
      "execution_count": 0,
      "outputs": [
        {
          "output_type": "execute_result",
          "data": {
            "text/plain": [
              "age                             44\n",
              "workclass                  Private\n",
              "fnlwgt                      236746\n",
              "education                  Masters\n",
              "education-num                   14\n",
              "marital-status            Divorced\n",
              "occupation         Exec-managerial\n",
              "relationship         Not-in-family\n",
              "race                         White\n",
              "sex                           Male\n",
              "capital-gain                 10520\n",
              "capital-loss                     0\n",
              "hours-per-week                  45\n",
              "native-country       United-States\n",
              "salary                       >=50k\n",
              "Name: 1, dtype: object"
            ]
          },
          "metadata": {
            "tags": []
          },
          "execution_count": 28
        }
      ]
    },
    {
      "cell_type": "code",
      "metadata": {
        "id": "AkIgct6iotGS",
        "colab_type": "code",
        "outputId": "038a58e5-df1c-4e6f-d639-8bf5d45d8c71",
        "colab": {
          "base_uri": "https://localhost:8080/",
          "height": 34
        }
      },
      "source": [
        "type(data.cat_names)"
      ],
      "execution_count": 0,
      "outputs": [
        {
          "output_type": "execute_result",
          "data": {
            "text/plain": [
              "list"
            ]
          },
          "metadata": {
            "tags": []
          },
          "execution_count": 29
        }
      ]
    },
    {
      "cell_type": "code",
      "metadata": {
        "id": "xER6Cjb3ty9V",
        "colab_type": "code",
        "outputId": "79b43281-e273-49e1-b973-f6c2a036a0f7",
        "colab": {
          "base_uri": "https://localhost:8080/",
          "height": 119
        }
      },
      "source": [
        "data.cat_names"
      ],
      "execution_count": 0,
      "outputs": [
        {
          "output_type": "execute_result",
          "data": {
            "text/plain": [
              "['workclass',\n",
              " 'education',\n",
              " 'marital-status',\n",
              " 'occupation',\n",
              " 'relationship',\n",
              " 'race']"
            ]
          },
          "metadata": {
            "tags": []
          },
          "execution_count": 30
        }
      ]
    },
    {
      "cell_type": "code",
      "metadata": {
        "id": "nEjLUcCGUY7z",
        "colab_type": "code",
        "outputId": "b2dfd74f-7fec-478c-b87b-c812243584d4",
        "colab": {
          "base_uri": "https://localhost:8080/",
          "height": 34
        }
      },
      "source": [
        "type(data.cont_names)"
      ],
      "execution_count": 0,
      "outputs": [
        {
          "output_type": "execute_result",
          "data": {
            "text/plain": [
              "list"
            ]
          },
          "metadata": {
            "tags": []
          },
          "execution_count": 31
        }
      ]
    },
    {
      "cell_type": "code",
      "metadata": {
        "id": "V_-NiOjlt1Rp",
        "colab_type": "code",
        "outputId": "4e532f6c-d4ca-4f0d-a7bf-110244468c04",
        "colab": {
          "base_uri": "https://localhost:8080/",
          "height": 34
        }
      },
      "source": [
        "data.cont_names"
      ],
      "execution_count": 0,
      "outputs": [
        {
          "output_type": "execute_result",
          "data": {
            "text/plain": [
              "['age', 'fnlwgt', 'education-num']"
            ]
          },
          "metadata": {
            "tags": []
          },
          "execution_count": 32
        }
      ]
    },
    {
      "cell_type": "code",
      "metadata": {
        "id": "n_ex6wgqu4OH",
        "colab_type": "code",
        "colab": {}
      },
      "source": [
        "data2 = data.split_by_idx(list(range(800,1000)))"
      ],
      "execution_count": 0,
      "outputs": []
    },
    {
      "cell_type": "code",
      "metadata": {
        "id": "nk0x_pHCu7mk",
        "colab_type": "code",
        "outputId": "ab8037ac-3410-4c9c-cd84-955c355ad18a",
        "colab": {
          "base_uri": "https://localhost:8080/",
          "height": 34
        }
      },
      "source": [
        "type(data2)"
      ],
      "execution_count": 0,
      "outputs": [
        {
          "output_type": "execute_result",
          "data": {
            "text/plain": [
              "fastai.data_block.ItemLists"
            ]
          },
          "metadata": {
            "tags": []
          },
          "execution_count": 34
        }
      ]
    },
    {
      "cell_type": "code",
      "metadata": {
        "id": "DsMnp7IfvKCd",
        "colab_type": "code",
        "outputId": "4c5ee7a1-abfc-4fe6-c724-9c5d625e5e49",
        "colab": {
          "base_uri": "https://localhost:8080/",
          "height": 34
        }
      },
      "source": [
        "type(data2.train)"
      ],
      "execution_count": 0,
      "outputs": [
        {
          "output_type": "execute_result",
          "data": {
            "text/plain": [
              "fastai.tabular.data.TabularList"
            ]
          },
          "metadata": {
            "tags": []
          },
          "execution_count": 35
        }
      ]
    },
    {
      "cell_type": "code",
      "metadata": {
        "id": "m8rPLSEhCY_m",
        "colab_type": "code",
        "outputId": "0b48ae8d-d00d-479a-a452-471de1777803",
        "colab": {
          "base_uri": "https://localhost:8080/",
          "height": 34
        }
      },
      "source": [
        "type(data2.valid)"
      ],
      "execution_count": 0,
      "outputs": [
        {
          "output_type": "execute_result",
          "data": {
            "text/plain": [
              "fastai.tabular.data.TabularList"
            ]
          },
          "metadata": {
            "tags": []
          },
          "execution_count": 36
        }
      ]
    },
    {
      "cell_type": "code",
      "metadata": {
        "id": "1zT4KfsaDFVA",
        "colab_type": "code",
        "outputId": "d7c39c14-9f27-4ddc-983c-2e9436b2f5f9",
        "colab": {
          "base_uri": "https://localhost:8080/",
          "height": 119
        }
      },
      "source": [
        "data2.valid.cat_names"
      ],
      "execution_count": 0,
      "outputs": [
        {
          "output_type": "execute_result",
          "data": {
            "text/plain": [
              "['workclass',\n",
              " 'education',\n",
              " 'marital-status',\n",
              " 'occupation',\n",
              " 'relationship',\n",
              " 'race']"
            ]
          },
          "metadata": {
            "tags": []
          },
          "execution_count": 37
        }
      ]
    },
    {
      "cell_type": "code",
      "metadata": {
        "id": "9RRTAq4WDJXp",
        "colab_type": "code",
        "outputId": "84c0f50b-5f02-4c54-ef32-a69e22dd0447",
        "colab": {
          "base_uri": "https://localhost:8080/",
          "height": 34
        }
      },
      "source": [
        "data2.valid.cont_names"
      ],
      "execution_count": 0,
      "outputs": [
        {
          "output_type": "execute_result",
          "data": {
            "text/plain": [
              "['age', 'fnlwgt', 'education-num']"
            ]
          },
          "metadata": {
            "tags": []
          },
          "execution_count": 38
        }
      ]
    },
    {
      "cell_type": "code",
      "metadata": {
        "id": "nnOABmW9DMUG",
        "colab_type": "code",
        "outputId": "d19c4c19-c136-42ae-9a80-582085fc090e",
        "colab": {
          "base_uri": "https://localhost:8080/",
          "height": 119
        }
      },
      "source": [
        "data2.train.cat_names"
      ],
      "execution_count": 0,
      "outputs": [
        {
          "output_type": "execute_result",
          "data": {
            "text/plain": [
              "['workclass',\n",
              " 'education',\n",
              " 'marital-status',\n",
              " 'occupation',\n",
              " 'relationship',\n",
              " 'race']"
            ]
          },
          "metadata": {
            "tags": []
          },
          "execution_count": 39
        }
      ]
    },
    {
      "cell_type": "code",
      "metadata": {
        "id": "MAi0wIGxDPzW",
        "colab_type": "code",
        "outputId": "10bbc4ab-f2e2-43d3-9932-cdff2e32ae1b",
        "colab": {
          "base_uri": "https://localhost:8080/",
          "height": 34
        }
      },
      "source": [
        "data2.train.cont_names"
      ],
      "execution_count": 0,
      "outputs": [
        {
          "output_type": "execute_result",
          "data": {
            "text/plain": [
              "['age', 'fnlwgt', 'education-num']"
            ]
          },
          "metadata": {
            "tags": []
          },
          "execution_count": 72
        }
      ]
    },
    {
      "cell_type": "code",
      "metadata": {
        "id": "hVTcL0GNEP2z",
        "colab_type": "code",
        "outputId": "8e414726-f07a-4d3e-9e42-abae5ce1ad63",
        "colab": {
          "base_uri": "https://localhost:8080/",
          "height": 34
        }
      },
      "source": [
        "type(data2.train.get(1))"
      ],
      "execution_count": 0,
      "outputs": [
        {
          "output_type": "execute_result",
          "data": {
            "text/plain": [
              "fastai.tabular.data.TabularLine"
            ]
          },
          "metadata": {
            "tags": []
          },
          "execution_count": 68
        }
      ]
    },
    {
      "cell_type": "code",
      "metadata": {
        "id": "SbWnMpzZDgXx",
        "colab_type": "code",
        "outputId": "e4402d40-f2f4-4356-8323-d7c4bb559c31",
        "colab": {
          "base_uri": "https://localhost:8080/",
          "height": 289
        }
      },
      "source": [
        "data2.train.get(1)"
      ],
      "execution_count": 0,
      "outputs": [
        {
          "output_type": "execute_result",
          "data": {
            "text/plain": [
              "age                             44\n",
              "workclass                  Private\n",
              "fnlwgt                      236746\n",
              "education                  Masters\n",
              "education-num                   14\n",
              "marital-status            Divorced\n",
              "occupation         Exec-managerial\n",
              "relationship         Not-in-family\n",
              "race                         White\n",
              "sex                           Male\n",
              "capital-gain                 10520\n",
              "capital-loss                     0\n",
              "hours-per-week                  45\n",
              "native-country       United-States\n",
              "salary                       >=50k\n",
              "Name: 1, dtype: object"
            ]
          },
          "metadata": {
            "tags": []
          },
          "execution_count": 41
        }
      ]
    },
    {
      "cell_type": "code",
      "metadata": {
        "id": "dKEQN-jFDx-Z",
        "colab_type": "code",
        "outputId": "3f823ec9-144e-4f40-c202-6de3ae914037",
        "colab": {
          "base_uri": "https://localhost:8080/",
          "height": 289
        }
      },
      "source": [
        "data2.valid.get(1)"
      ],
      "execution_count": 0,
      "outputs": [
        {
          "output_type": "execute_result",
          "data": {
            "text/plain": [
              "age                                46\n",
              "workclass                Self-emp-inc\n",
              "fnlwgt                         192779\n",
              "education                 Prof-school\n",
              "education-num                     NaN\n",
              "marital-status     Married-civ-spouse\n",
              "occupation             Prof-specialty\n",
              "relationship                  Husband\n",
              "race                            White\n",
              "sex                              Male\n",
              "capital-gain                    15024\n",
              "capital-loss                        0\n",
              "hours-per-week                     60\n",
              "native-country          United-States\n",
              "salary                          >=50k\n",
              "Name: 801, dtype: object"
            ]
          },
          "metadata": {
            "tags": []
          },
          "execution_count": 42
        }
      ]
    },
    {
      "cell_type": "code",
      "metadata": {
        "id": "ie9AIKDdETBJ",
        "colab_type": "code",
        "colab": {}
      },
      "source": [
        "data3= data2.label_from_df(cols=dep_var)"
      ],
      "execution_count": 0,
      "outputs": []
    },
    {
      "cell_type": "code",
      "metadata": {
        "id": "DaTu8SaXEbRc",
        "colab_type": "code",
        "outputId": "4567ba47-0cb1-49d8-dfe6-c75e480701dd",
        "colab": {
          "base_uri": "https://localhost:8080/",
          "height": 34
        }
      },
      "source": [
        "type(data3)"
      ],
      "execution_count": 0,
      "outputs": [
        {
          "output_type": "execute_result",
          "data": {
            "text/plain": [
              "fastai.data_block.LabelLists"
            ]
          },
          "metadata": {
            "tags": []
          },
          "execution_count": 44
        }
      ]
    },
    {
      "cell_type": "code",
      "metadata": {
        "id": "nJTThRLMEetl",
        "colab_type": "code",
        "outputId": "e25fc234-7faf-41a0-aec6-f85b58f09cf7",
        "colab": {
          "base_uri": "https://localhost:8080/",
          "height": 224
        }
      },
      "source": [
        "data3.lists"
      ],
      "execution_count": 0,
      "outputs": [
        {
          "output_type": "execute_result",
          "data": {
            "text/plain": [
              "[LabelList (32361 items)\n",
              " x: TabularList\n",
              " workclass  Private; education  Assoc-acdm; marital-status  Married-civ-spouse; occupation #na#; relationship  Wife; race  White; education-num_na False; age 0.7632; fnlwgt -0.8381; education-num 0.7511; ,workclass  Private; education  Masters; marital-status  Divorced; occupation  Exec-managerial; relationship  Not-in-family; race  White; education-num_na False; age 0.3968; fnlwgt 0.4458; education-num 1.5334; ,workclass  Private; education  HS-grad; marital-status  Divorced; occupation #na#; relationship  Unmarried; race  Black; education-num_na True; age -0.0430; fnlwgt -0.8868; education-num -0.0312; ,workclass  Self-emp-inc; education  Prof-school; marital-status  Married-civ-spouse; occupation  Prof-specialty; relationship  Husband; race  Asian-Pac-Islander; education-num_na False; age -0.0430; fnlwgt -0.7288; education-num 1.9245; ,workclass  Self-emp-not-inc; education  7th-8th; marital-status  Married-civ-spouse; occupation  Other-service; relationship  Wife; race  Black; education-num_na True; age 0.2502; fnlwgt -1.0185; education-num -0.0312; \n",
              " y: CategoryList\n",
              " >=50k,>=50k,<50k,>=50k,<50k\n",
              " Path: /root/.fastai/data/adult_sample, LabelList (200 items)\n",
              " x: TabularList\n",
              " workclass  Private; education  Some-college; marital-status  Divorced; occupation  Handlers-cleaners; relationship  Unmarried; race  White; education-num_na True; age 0.4701; fnlwgt -0.8793; education-num -0.0312; ,workclass  Self-emp-inc; education  Prof-school; marital-status  Married-civ-spouse; occupation  Prof-specialty; relationship  Husband; race  White; education-num_na True; age 0.5434; fnlwgt 0.0290; education-num -0.0312; ,workclass  Private; education  Assoc-voc; marital-status  Divorced; occupation #na#; relationship  Not-in-family; race  White; education-num_na True; age -0.1896; fnlwgt 1.7704; education-num -0.0312; ,workclass  Federal-gov; education  Bachelors; marital-status  Never-married; occupation  Tech-support; relationship  Not-in-family; race  White; education-num_na True; age -0.9959; fnlwgt -1.3242; education-num -0.0312; ,workclass  Private; education  Bachelors; marital-status  Married-civ-spouse; occupation #na#; relationship  Husband; race  White; education-num_na True; age -0.1163; fnlwgt -0.2389; education-num -0.0312; \n",
              " y: CategoryList\n",
              " <50k,>=50k,<50k,<50k,<50k\n",
              " Path: /root/.fastai/data/adult_sample]"
            ]
          },
          "metadata": {
            "tags": []
          },
          "execution_count": 45
        }
      ]
    },
    {
      "cell_type": "code",
      "metadata": {
        "id": "YRpB5-xPEoiB",
        "colab_type": "code",
        "outputId": "b7347ab5-a029-467f-8354-2558a615ebf2",
        "colab": {
          "base_uri": "https://localhost:8080/",
          "height": 34
        }
      },
      "source": [
        "type(data3.train)"
      ],
      "execution_count": 0,
      "outputs": [
        {
          "output_type": "execute_result",
          "data": {
            "text/plain": [
              "fastai.data_block.LabelList"
            ]
          },
          "metadata": {
            "tags": []
          },
          "execution_count": 46
        }
      ]
    },
    {
      "cell_type": "code",
      "metadata": {
        "id": "IvZG9ye3HEtx",
        "colab_type": "code",
        "outputId": "baa635da-965d-41a8-868c-9cea9808488e",
        "colab": {
          "base_uri": "https://localhost:8080/",
          "height": 34
        }
      },
      "source": [
        "type(data3.train.x)"
      ],
      "execution_count": 0,
      "outputs": [
        {
          "output_type": "execute_result",
          "data": {
            "text/plain": [
              "fastai.tabular.data.TabularList"
            ]
          },
          "metadata": {
            "tags": []
          },
          "execution_count": 47
        }
      ]
    },
    {
      "cell_type": "code",
      "metadata": {
        "id": "rxqGWp3WHxGo",
        "colab_type": "code",
        "outputId": "bcb79289-6440-42c5-ffa7-074092d2796a",
        "colab": {
          "base_uri": "https://localhost:8080/",
          "height": 34
        }
      },
      "source": [
        "type(data3.train.y)"
      ],
      "execution_count": 0,
      "outputs": [
        {
          "output_type": "execute_result",
          "data": {
            "text/plain": [
              "fastai.data_block.CategoryList"
            ]
          },
          "metadata": {
            "tags": []
          },
          "execution_count": 48
        }
      ]
    },
    {
      "cell_type": "code",
      "metadata": {
        "id": "F-HCNittHzRS",
        "colab_type": "code",
        "outputId": "fdba8816-dd65-405f-f702-c9fab1525bde",
        "colab": {
          "base_uri": "https://localhost:8080/",
          "height": 54
        }
      },
      "source": [
        "data3.train.x[0]"
      ],
      "execution_count": 0,
      "outputs": [
        {
          "output_type": "execute_result",
          "data": {
            "text/plain": [
              "TabularLine workclass  Private; education  Assoc-acdm; marital-status  Married-civ-spouse; occupation #na#; relationship  Wife; race  White; education-num_na False; age 0.7632; fnlwgt -0.8381; education-num 0.7511; "
            ]
          },
          "metadata": {
            "tags": []
          },
          "execution_count": 73
        }
      ]
    },
    {
      "cell_type": "code",
      "metadata": {
        "id": "q65bxYM3H6WU",
        "colab_type": "code",
        "outputId": "2528d0ac-5fb3-439a-ab3e-82e99a9fdced",
        "colab": {
          "base_uri": "https://localhost:8080/",
          "height": 68
        }
      },
      "source": [
        "data3.train.y"
      ],
      "execution_count": 0,
      "outputs": [
        {
          "output_type": "execute_result",
          "data": {
            "text/plain": [
              "CategoryList (32361 items)\n",
              ">=50k,>=50k,<50k,>=50k,<50k\n",
              "Path: /root/.fastai/data/adult_sample"
            ]
          },
          "metadata": {
            "tags": []
          },
          "execution_count": 50
        }
      ]
    },
    {
      "cell_type": "code",
      "metadata": {
        "id": "jV3OJ8IMIKSG",
        "colab_type": "code",
        "outputId": "83ba6b3c-4d86-4a80-cabe-647abaad56b0",
        "colab": {
          "base_uri": "https://localhost:8080/",
          "height": 54
        }
      },
      "source": [
        "data3.train.x[0]"
      ],
      "execution_count": 0,
      "outputs": [
        {
          "output_type": "execute_result",
          "data": {
            "text/plain": [
              "TabularLine workclass  Private; education  Assoc-acdm; marital-status  Married-civ-spouse; occupation #na#; relationship  Wife; race  White; education-num_na False; age 0.7632; fnlwgt -0.8381; education-num 0.7511; "
            ]
          },
          "metadata": {
            "tags": []
          },
          "execution_count": 69
        }
      ]
    },
    {
      "cell_type": "code",
      "metadata": {
        "id": "MgpSHnGNF3WG",
        "colab_type": "code",
        "colab": {}
      },
      "source": [
        "final_data = data3.databunch()"
      ],
      "execution_count": 0,
      "outputs": []
    },
    {
      "cell_type": "code",
      "metadata": {
        "id": "tKm-p7SEGJFm",
        "colab_type": "code",
        "outputId": "91c98fdd-3841-4a17-c505-8a39dbe139ff",
        "colab": {
          "base_uri": "https://localhost:8080/",
          "height": 34
        }
      },
      "source": [
        "type(final_data)"
      ],
      "execution_count": 0,
      "outputs": [
        {
          "output_type": "execute_result",
          "data": {
            "text/plain": [
              "fastai.tabular.data.TabularDataBunch"
            ]
          },
          "metadata": {
            "tags": []
          },
          "execution_count": 54
        }
      ]
    },
    {
      "cell_type": "code",
      "metadata": {
        "id": "J1kOhTTiGMAt",
        "colab_type": "code",
        "outputId": "443f1b5f-71db-4a92-8c5c-6b6930cfd0e4",
        "colab": {
          "base_uri": "https://localhost:8080/",
          "height": 34
        }
      },
      "source": [
        "type(final_data.train_dl.x)"
      ],
      "execution_count": 0,
      "outputs": [
        {
          "output_type": "execute_result",
          "data": {
            "text/plain": [
              "fastai.tabular.data.TabularList"
            ]
          },
          "metadata": {
            "tags": []
          },
          "execution_count": 83
        }
      ]
    },
    {
      "cell_type": "code",
      "metadata": {
        "id": "1WDfpNZxmwRu",
        "colab_type": "code",
        "outputId": "21beb706-6fdc-4e84-9765-96b008f25f5c",
        "colab": {
          "base_uri": "https://localhost:8080/",
          "height": 34
        }
      },
      "source": [
        "type(final_data.train_dl.y)"
      ],
      "execution_count": 0,
      "outputs": [
        {
          "output_type": "execute_result",
          "data": {
            "text/plain": [
              "fastai.data_block.CategoryList"
            ]
          },
          "metadata": {
            "tags": []
          },
          "execution_count": 86
        }
      ]
    },
    {
      "cell_type": "code",
      "metadata": {
        "id": "6bJ-U8i_m33W",
        "colab_type": "code",
        "outputId": "4e3c803b-189c-471f-992a-162083c81a29",
        "colab": {
          "base_uri": "https://localhost:8080/",
          "height": 88
        }
      },
      "source": [
        "final_data.train_dl.x"
      ],
      "execution_count": 0,
      "outputs": [
        {
          "output_type": "execute_result",
          "data": {
            "text/plain": [
              "TabularList (32361 items)\n",
              "workclass  Private; education  Assoc-acdm; marital-status  Married-civ-spouse; occupation #na#; relationship  Wife; race  White; education-num_na False; age 0.7632; fnlwgt -0.8381; education-num 0.7511; ,workclass  Private; education  Masters; marital-status  Divorced; occupation  Exec-managerial; relationship  Not-in-family; race  White; education-num_na False; age 0.3968; fnlwgt 0.4458; education-num 1.5334; ,workclass  Private; education  HS-grad; marital-status  Divorced; occupation #na#; relationship  Unmarried; race  Black; education-num_na True; age -0.0430; fnlwgt -0.8868; education-num -0.0312; ,workclass  Self-emp-inc; education  Prof-school; marital-status  Married-civ-spouse; occupation  Prof-specialty; relationship  Husband; race  Asian-Pac-Islander; education-num_na False; age -0.0430; fnlwgt -0.7288; education-num 1.9245; ,workclass  Self-emp-not-inc; education  7th-8th; marital-status  Married-civ-spouse; occupation  Other-service; relationship  Wife; race  Black; education-num_na True; age 0.2502; fnlwgt -1.0185; education-num -0.0312; \n",
              "Path: /root/.fastai/data/adult_sample"
            ]
          },
          "metadata": {
            "tags": []
          },
          "execution_count": 88
        }
      ]
    },
    {
      "cell_type": "code",
      "metadata": {
        "id": "YMN77D89myN1",
        "colab_type": "code",
        "outputId": "ada8e468-4837-4cf5-da01-86f19a7dde19",
        "colab": {
          "base_uri": "https://localhost:8080/",
          "height": 68
        }
      },
      "source": [
        "final_data.train_dl.y"
      ],
      "execution_count": 0,
      "outputs": [
        {
          "output_type": "execute_result",
          "data": {
            "text/plain": [
              "CategoryList (32361 items)\n",
              ">=50k,>=50k,<50k,>=50k,<50k\n",
              "Path: /root/.fastai/data/adult_sample"
            ]
          },
          "metadata": {
            "tags": []
          },
          "execution_count": 87
        }
      ]
    },
    {
      "cell_type": "markdown",
      "metadata": {
        "id": "JBIr90GOpJZv",
        "colab_type": "text"
      },
      "source": [
        "The below command shows the three Tensors in the Databunch class. Tensors are nothing but multi dimensional matrices. The first two Tensors are for the features. We have a total of 10 features (9 input features and 1 output feature). \n",
        "Out of that, 7 are Categorical and 3 are Continouous features in this example. Therefore you see two Tensors of those sizes. \n",
        "The third Tensor is for Labels. "
      ]
    },
    {
      "cell_type": "code",
      "metadata": {
        "id": "os4VH0JiNznJ",
        "colab_type": "code",
        "outputId": "7e45e4bc-1b4e-4765-e759-52d12b338f92",
        "colab": {
          "base_uri": "https://localhost:8080/",
          "height": 1000
        }
      },
      "source": [
        "next(iter(final_data.train_dl))"
      ],
      "execution_count": 0,
      "outputs": [
        {
          "output_type": "execute_result",
          "data": {
            "text/plain": [
              "[[tensor([[ 5, 12,  3,  4,  1,  5,  1],\n",
              "          [ 5, 16,  5, 11,  2,  4,  1],\n",
              "          [ 5, 16,  3,  8,  1,  5,  1],\n",
              "          [ 5,  2,  3, 13,  1,  5,  1],\n",
              "          [ 5, 10,  1,  0,  2,  5,  2],\n",
              "          [ 5, 16,  5,  2,  2,  5,  1],\n",
              "          [ 5, 10,  4, 11,  2,  2,  1],\n",
              "          [ 5,  1,  5,  6,  4,  5,  1],\n",
              "          [ 7, 12,  3,  5,  1,  5,  1],\n",
              "          [ 5, 12,  5,  8,  2,  5,  1],\n",
              "          [ 5,  8,  5,  2,  2,  5,  1],\n",
              "          [ 5, 16,  5,  5,  4,  5,  1],\n",
              "          [ 5, 10,  5,  2,  2,  5,  1],\n",
              "          [ 7, 11,  3, 11,  1,  5,  1],\n",
              "          [ 7, 12,  3,  6,  1,  5,  1],\n",
              "          [ 5,  2,  3,  4,  1,  5,  1],\n",
              "          [ 1, 16,  5,  1,  4,  5,  1],\n",
              "          [ 5, 12,  3,  4,  1,  5,  1],\n",
              "          [ 1, 12,  3,  1,  1,  5,  1],\n",
              "          [ 7, 10,  3, 11,  6,  5,  1],\n",
              "          [ 5, 16,  3, 13,  1,  5,  1],\n",
              "          [ 5, 10,  3, 14,  1,  5,  1],\n",
              "          [ 5, 12,  5,  8,  4,  5,  1],\n",
              "          [ 5, 12,  3,  5,  1,  5,  1],\n",
              "          [ 5,  9,  3,  8,  1,  5,  1],\n",
              "          [ 5,  3,  1,  8,  2,  5,  1],\n",
              "          [ 8, 12,  3,  6,  1,  5,  1],\n",
              "          [ 5, 12,  3,  4,  1,  5,  1],\n",
              "          [ 5, 16,  5,  8,  4,  5,  1],\n",
              "          [ 6, 16,  1,  5,  2,  5,  1],\n",
              "          [ 5,  1,  5,  9,  4,  5,  1],\n",
              "          [ 6, 12,  3, 13,  1,  5,  1],\n",
              "          [ 5,  2,  5,  6,  5,  5,  1],\n",
              "          [ 5, 12,  3,  5,  1,  5,  1],\n",
              "          [ 5, 12,  1, 13,  2,  5,  1],\n",
              "          [ 5,  1,  3,  8,  1,  5,  1],\n",
              "          [ 5, 16,  5, 13,  4,  5,  1],\n",
              "          [ 5, 10,  5,  2,  4,  5,  1],\n",
              "          [ 5, 10,  5, 14,  3,  2,  1],\n",
              "          [ 3, 10,  5, 11,  2,  5,  1],\n",
              "          [ 5, 16,  5, 13,  5,  5,  1],\n",
              "          [ 5, 12,  3, 15,  1,  5,  1],\n",
              "          [ 5, 12,  1,  2,  2,  5,  1],\n",
              "          [ 5, 10,  3, 11,  1,  5,  1],\n",
              "          [ 7, 16,  5,  9,  2,  5,  1],\n",
              "          [ 5, 12,  3,  0,  1,  5,  1],\n",
              "          [ 8, 12,  3, 14,  1,  5,  1],\n",
              "          [ 5, 10,  5,  5,  2,  5,  1],\n",
              "          [ 5, 13,  3, 11,  1,  5,  1],\n",
              "          [ 5,  1,  1, 15,  2,  5,  1],\n",
              "          [ 5, 12,  1,  4,  5,  5,  1],\n",
              "          [ 5, 15,  3, 11,  1,  5,  1],\n",
              "          [ 2, 16,  3, 14,  1,  5,  1],\n",
              "          [ 5, 12,  3,  7,  1,  5,  1],\n",
              "          [ 5, 12,  1,  2,  5,  5,  1],\n",
              "          [ 3, 10,  3, 11,  6,  5,  1],\n",
              "          [ 8, 12,  1, 12,  2,  5,  1],\n",
              "          [ 2, 12,  1,  2,  2,  3,  1],\n",
              "          [ 5, 16,  3, 13,  1,  5,  1],\n",
              "          [ 8, 10,  3, 12,  1,  3,  1],\n",
              "          [ 5, 13,  3,  5,  1,  5,  1],\n",
              "          [ 5, 12,  5,  8,  2,  5,  1],\n",
              "          [ 5, 10,  3,  5,  1,  5,  1],\n",
              "          [ 5, 16,  3, 15,  1,  5,  1]], device='cuda:0'),\n",
              "  tensor([[ 9.8314e-01, -8.6401e-01, -4.2235e-01],\n",
              "          [-9.2263e-01, -5.3983e-02, -3.1209e-02],\n",
              "          [-1.1634e-01,  4.4816e-01, -3.1209e-02],\n",
              "          [ 1.4229e+00, -3.9832e-01, -1.2046e+00],\n",
              "          [ 6.1665e-01, -2.6328e-01, -3.1209e-02],\n",
              "          [-1.3624e+00, -6.4047e-01, -3.1209e-02],\n",
              "          [ 1.0356e-01, -6.4246e-01,  1.1422e+00],\n",
              "          [-1.5090e+00, -3.6568e-01, -1.5958e+00],\n",
              "          [ 1.7685e-01,  4.1157e-01, -4.2235e-01],\n",
              "          [-1.0692e+00, -1.3032e+00, -4.2235e-01],\n",
              "          [-1.2158e+00,  1.0048e-01,  7.5108e-01],\n",
              "          [-1.1425e+00, -3.5451e-01, -3.1209e-02],\n",
              "          [-7.7603e-01,  8.0559e-01,  1.1422e+00],\n",
              "          [-5.5614e-01, -1.0305e+00,  2.3157e+00],\n",
              "          [ 1.8627e+00, -1.4483e+00, -4.2235e-01],\n",
              "          [-1.8964e-01, -6.3113e-01, -1.2046e+00],\n",
              "          [-1.4357e+00, -5.1904e-01, -3.1209e-02],\n",
              "          [-1.1634e-01, -6.5541e-01, -4.2235e-01],\n",
              "          [ 1.4229e+00, -2.9494e-01, -4.2235e-01],\n",
              "          [ 3.2345e-01,  1.9629e+00,  1.1422e+00],\n",
              "          [ 9.0985e-01,  1.3982e+00, -3.1209e-02],\n",
              "          [-7.0273e-01, -3.8406e-01,  1.1422e+00],\n",
              "          [-1.2891e+00,  3.9187e-01, -4.2235e-01],\n",
              "          [ 1.2763e+00, -7.2889e-01, -4.2235e-01],\n",
              "          [-7.7603e-01,  1.8355e+00,  3.5994e-01],\n",
              "          [ 1.2030e+00, -9.5319e-01, -8.1350e-01],\n",
              "          [ 1.8627e+00, -7.9613e-01, -4.2235e-01],\n",
              "          [ 2.5015e-01,  2.5230e-02, -4.2235e-01],\n",
              "          [-1.1425e+00,  3.3405e-01, -3.1209e-02],\n",
              "          [ 1.0564e+00, -3.0186e-01, -3.1209e-02],\n",
              "          [-1.5823e+00,  7.2447e-01, -1.5958e+00],\n",
              "          [ 1.4962e+00, -8.1319e-01, -4.2235e-01],\n",
              "          [-1.0692e+00,  3.7614e-01, -1.2046e+00],\n",
              "          [-7.0273e-01,  1.0626e-01, -4.2235e-01],\n",
              "          [ 2.5015e-01, -8.7254e-01, -4.2235e-01],\n",
              "          [ 1.0356e-01, -1.5561e-01, -1.5958e+00],\n",
              "          [-1.2158e+00,  1.8228e-01, -3.1209e-02],\n",
              "          [-2.6294e-01, -5.3120e-02,  1.1422e+00],\n",
              "          [-8.4933e-01,  1.3344e+00,  1.1422e+00],\n",
              "          [-6.2944e-01, -6.7523e-01,  1.1422e+00],\n",
              "          [-1.2891e+00, -6.6381e-01, -3.1209e-02],\n",
              "          [ 6.1665e-01, -2.8437e-01, -4.2235e-01],\n",
              "          [-8.4933e-01, -6.7239e-01, -4.2235e-01],\n",
              "          [ 7.6325e-01, -1.2843e+00,  1.1422e+00],\n",
              "          [-1.0692e+00, -8.2273e-01, -3.1209e-02],\n",
              "          [ 8.3655e-01, -5.8063e-01, -4.2235e-01],\n",
              "          [ 6.1665e-01, -8.1833e-01, -4.2235e-01],\n",
              "          [-9.2263e-01, -1.1669e+00,  1.1422e+00],\n",
              "          [ 3.9675e-01, -3.6625e-01,  1.5334e+00],\n",
              "          [ 2.1559e+00,  7.9996e-01, -1.5958e+00],\n",
              "          [-1.8964e-01,  1.3271e-01, -4.2235e-01],\n",
              "          [ 3.2345e-01,  2.5832e+00,  1.9245e+00],\n",
              "          [ 1.5695e+00, -5.7208e-01, -3.1209e-02],\n",
              "          [-7.7603e-01, -1.1293e+00, -4.2235e-01],\n",
              "          [ 5.4335e-01, -2.7728e-01, -4.2235e-01],\n",
              "          [-7.0273e-01,  2.8619e-01,  1.1422e+00],\n",
              "          [ 1.7685e-01,  1.6712e+00, -4.2235e-01],\n",
              "          [ 1.0356e-01, -1.0415e-03, -4.2235e-01],\n",
              "          [ 1.7685e-01, -7.0318e-02, -3.1209e-02],\n",
              "          [-4.3043e-02,  1.2246e+00,  1.1422e+00],\n",
              "          [ 5.4335e-01,  1.3968e+00,  1.5334e+00],\n",
              "          [-1.1634e-01, -5.8553e-01, -4.2235e-01],\n",
              "          [-8.4933e-01, -7.2970e-01,  1.1422e+00],\n",
              "          [ 4.7005e-01,  4.7899e-02, -3.1209e-02]], device='cuda:0')],\n",
              " tensor([0, 0, 0, 0, 0, 0, 1, 0, 0, 0, 0, 0, 0, 1, 1, 0, 0, 1, 0, 1, 1, 0, 0, 1,\n",
              "         1, 0, 0, 1, 0, 0, 0, 1, 0, 1, 0, 0, 0, 0, 0, 0, 0, 1, 0, 1, 0, 0, 0, 0,\n",
              "         1, 0, 0, 1, 0, 0, 0, 1, 1, 0, 1, 0, 1, 0, 1, 0], device='cuda:0')]"
            ]
          },
          "metadata": {
            "tags": []
          },
          "execution_count": 89
        }
      ]
    },
    {
      "cell_type": "code",
      "metadata": {
        "id": "xdx9wjw7HAYx",
        "colab_type": "code",
        "colab": {}
      },
      "source": [
        "final_data.save('databunch.pkl')"
      ],
      "execution_count": 0,
      "outputs": []
    },
    {
      "cell_type": "code",
      "metadata": {
        "id": "vhnWC7BWesGI",
        "colab_type": "code",
        "outputId": "9c039a7a-2faf-4933-e4a6-2aa47d22a2bd",
        "colab": {
          "base_uri": "https://localhost:8080/",
          "height": 139
        }
      },
      "source": [
        "final_data.train_ds[0]"
      ],
      "execution_count": 0,
      "outputs": [
        {
          "output_type": "execute_result",
          "data": {
            "text/plain": [
              "LabelList (32361 items)\n",
              "x: TabularList\n",
              "workclass  Private; education  Assoc-acdm; marital-status  Married-civ-spouse; occupation #na#; relationship  Wife; race  White; education-num_na False; age 0.7632; fnlwgt -0.8381; education-num 0.7511; ,workclass  Private; education  Masters; marital-status  Divorced; occupation  Exec-managerial; relationship  Not-in-family; race  White; education-num_na False; age 0.3968; fnlwgt 0.4458; education-num 1.5334; ,workclass  Private; education  HS-grad; marital-status  Divorced; occupation #na#; relationship  Unmarried; race  Black; education-num_na True; age -0.0430; fnlwgt -0.8868; education-num -0.0312; ,workclass  Self-emp-inc; education  Prof-school; marital-status  Married-civ-spouse; occupation  Prof-specialty; relationship  Husband; race  Asian-Pac-Islander; education-num_na False; age -0.0430; fnlwgt -0.7288; education-num 1.9245; ,workclass  Self-emp-not-inc; education  7th-8th; marital-status  Married-civ-spouse; occupation  Other-service; relationship  Wife; race  Black; education-num_na True; age 0.2502; fnlwgt -1.0185; education-num -0.0312; \n",
              "y: CategoryList\n",
              ">=50k,>=50k,<50k,>=50k,<50k\n",
              "Path: /root/.fastai/data/adult_sample"
            ]
          },
          "metadata": {
            "tags": []
          },
          "execution_count": 57
        }
      ]
    },
    {
      "cell_type": "code",
      "metadata": {
        "id": "anED3kU05220",
        "colab_type": "code",
        "outputId": "de0c3e97-6a3a-4725-dd57-68d05bab7e5d",
        "colab": {
          "base_uri": "https://localhost:8080/",
          "height": 71
        }
      },
      "source": [
        "final_data.train_ds[0]"
      ],
      "execution_count": 0,
      "outputs": [
        {
          "output_type": "execute_result",
          "data": {
            "text/plain": [
              "(TabularLine workclass  Private; education  Assoc-acdm; marital-status  Married-civ-spouse; occupation #na#; relationship  Wife; race  White; education-num_na False; age 0.7632; fnlwgt -0.8381; education-num 0.7511; ,\n",
              " Category >=50k)"
            ]
          },
          "metadata": {
            "tags": []
          },
          "execution_count": 58
        }
      ]
    },
    {
      "cell_type": "code",
      "metadata": {
        "id": "tcCYfGE-e0HU",
        "colab_type": "code",
        "outputId": "07adc35b-285c-4b32-fc91-9a3dc3e5d86f",
        "colab": {
          "base_uri": "https://localhost:8080/",
          "height": 54
        }
      },
      "source": [
        "final_data.train_dl"
      ],
      "execution_count": 0,
      "outputs": [
        {
          "output_type": "execute_result",
          "data": {
            "text/plain": [
              "DeviceDataLoader(dl=<torch.utils.data.dataloader.DataLoader object at 0x7fe93af0d748>, device=device(type='cuda'), tfms=[], collate_fn=<function data_collate at 0x7fe93ddc2a60>)"
            ]
          },
          "metadata": {
            "tags": []
          },
          "execution_count": 61
        }
      ]
    },
    {
      "cell_type": "code",
      "metadata": {
        "id": "V8gKAfZ4eVTW",
        "colab_type": "code",
        "outputId": "581c538a-50f6-41e1-e4ad-ebf389be8c73",
        "colab": {
          "base_uri": "https://localhost:8080/",
          "height": 1000
        }
      },
      "source": [
        "final_data.train_ds[0:10]"
      ],
      "execution_count": 0,
      "outputs": [
        {
          "output_type": "execute_result",
          "data": {
            "text/plain": [
              "LabelList (10 items)\n",
              "x: TabularList\n",
              "age                            0.763248\n",
              "workclass                       Private\n",
              "fnlwgt                        -0.838107\n",
              "education                    Assoc-acdm\n",
              "education-num                  0.751083\n",
              "marital-status       Married-civ-spouse\n",
              "occupation                          NaN\n",
              "relationship                       Wife\n",
              "race                              White\n",
              "sex                              Female\n",
              "capital-gain                          0\n",
              "capital-loss                       1902\n",
              "hours-per-week                       40\n",
              "native-country            United-States\n",
              "salary                            >=50k\n",
              "education-num_na                  False\n",
              "Name: 0, dtype: object,age                         0.396752\n",
              "workclass                    Private\n",
              "fnlwgt                      0.445849\n",
              "education                    Masters\n",
              "education-num                1.53338\n",
              "marital-status              Divorced\n",
              "occupation           Exec-managerial\n",
              "relationship           Not-in-family\n",
              "race                           White\n",
              "sex                             Male\n",
              "capital-gain                   10520\n",
              "capital-loss                       0\n",
              "hours-per-week                    45\n",
              "native-country         United-States\n",
              "salary                         >=50k\n",
              "education-num_na               False\n",
              "Name: 1, dtype: object,age                     -0.0430426\n",
              "workclass                  Private\n",
              "fnlwgt                   -0.886792\n",
              "education                  HS-grad\n",
              "education-num           -0.0312085\n",
              "marital-status            Divorced\n",
              "occupation                     NaN\n",
              "relationship             Unmarried\n",
              "race                         Black\n",
              "sex                         Female\n",
              "capital-gain                     0\n",
              "capital-loss                     0\n",
              "hours-per-week                  32\n",
              "native-country       United-States\n",
              "salary                        <50k\n",
              "education-num_na              True\n",
              "Name: 2, dtype: object,age                          -0.0430426\n",
              "workclass                  Self-emp-inc\n",
              "fnlwgt                        -0.728821\n",
              "education                   Prof-school\n",
              "education-num                   1.92452\n",
              "marital-status       Married-civ-spouse\n",
              "occupation               Prof-specialty\n",
              "relationship                    Husband\n",
              "race                 Asian-Pac-Islander\n",
              "sex                                Male\n",
              "capital-gain                          0\n",
              "capital-loss                          0\n",
              "hours-per-week                       40\n",
              "native-country            United-States\n",
              "salary                            >=50k\n",
              "education-num_na                  False\n",
              "Name: 3, dtype: object,age                            0.250154\n",
              "workclass              Self-emp-not-inc\n",
              "fnlwgt                         -1.01846\n",
              "education                       7th-8th\n",
              "education-num                -0.0312085\n",
              "marital-status       Married-civ-spouse\n",
              "occupation                Other-service\n",
              "relationship                       Wife\n",
              "race                              Black\n",
              "sex                              Female\n",
              "capital-gain                          0\n",
              "capital-loss                          0\n",
              "hours-per-week                       50\n",
              "native-country            United-States\n",
              "salary                             <50k\n",
              "education-num_na                   True\n",
              "Name: 4, dtype: object\n",
              "y: CategoryList\n",
              ">=50k,>=50k,<50k,>=50k,<50k\n",
              "Path: /root/.fastai/data/adult_sample"
            ]
          },
          "metadata": {
            "tags": []
          },
          "execution_count": 63
        }
      ]
    },
    {
      "cell_type": "markdown",
      "metadata": {
        "id": "qGIP8JfyqBzp",
        "colab_type": "text"
      },
      "source": [
        "Below is the data that can be sent to a Learner. In fact the data in the Tensors is what is sent to the Learner because the equations understand numbers and not values. "
      ]
    },
    {
      "cell_type": "code",
      "metadata": {
        "id": "pEW3s8ToGmAH",
        "colab_type": "code",
        "outputId": "1a5c158d-4ff6-42b9-a316-f8e6b1515359",
        "colab": {
          "base_uri": "https://localhost:8080/",
          "height": 495
        }
      },
      "source": [
        "final_data.show_batch(rows=10)"
      ],
      "execution_count": 0,
      "outputs": [
        {
          "output_type": "display_data",
          "data": {
            "text/html": [
              "<table border=\"1\" class=\"dataframe\">\n",
              "  <thead>\n",
              "    <tr style=\"text-align: right;\">\n",
              "      <th>workclass</th>\n",
              "      <th>education</th>\n",
              "      <th>marital-status</th>\n",
              "      <th>occupation</th>\n",
              "      <th>relationship</th>\n",
              "      <th>race</th>\n",
              "      <th>education-num_na</th>\n",
              "      <th>age</th>\n",
              "      <th>fnlwgt</th>\n",
              "      <th>education-num</th>\n",
              "      <th>target</th>\n",
              "    </tr>\n",
              "  </thead>\n",
              "  <tbody>\n",
              "    <tr>\n",
              "      <td>?</td>\n",
              "      <td>HS-grad</td>\n",
              "      <td>Married-civ-spouse</td>\n",
              "      <td>?</td>\n",
              "      <td>Husband</td>\n",
              "      <td>Black</td>\n",
              "      <td>False</td>\n",
              "      <td>2.0093</td>\n",
              "      <td>1.1816</td>\n",
              "      <td>-0.4224</td>\n",
              "      <td>&lt;50k</td>\n",
              "    </tr>\n",
              "    <tr>\n",
              "      <td>Federal-gov</td>\n",
              "      <td>HS-grad</td>\n",
              "      <td>Married-civ-spouse</td>\n",
              "      <td>Adm-clerical</td>\n",
              "      <td>Husband</td>\n",
              "      <td>White</td>\n",
              "      <td>False</td>\n",
              "      <td>0.7632</td>\n",
              "      <td>-0.2037</td>\n",
              "      <td>-0.4224</td>\n",
              "      <td>&gt;=50k</td>\n",
              "    </tr>\n",
              "    <tr>\n",
              "      <td>Private</td>\n",
              "      <td>HS-grad</td>\n",
              "      <td>Never-married</td>\n",
              "      <td>Adm-clerical</td>\n",
              "      <td>Not-in-family</td>\n",
              "      <td>Black</td>\n",
              "      <td>False</td>\n",
              "      <td>-1.3624</td>\n",
              "      <td>-0.9270</td>\n",
              "      <td>-0.4224</td>\n",
              "      <td>&lt;50k</td>\n",
              "    </tr>\n",
              "    <tr>\n",
              "      <td>Self-emp-not-inc</td>\n",
              "      <td>Assoc-acdm</td>\n",
              "      <td>Married-civ-spouse</td>\n",
              "      <td>Sales</td>\n",
              "      <td>Husband</td>\n",
              "      <td>White</td>\n",
              "      <td>False</td>\n",
              "      <td>-0.7027</td>\n",
              "      <td>-0.1016</td>\n",
              "      <td>0.7511</td>\n",
              "      <td>&lt;50k</td>\n",
              "    </tr>\n",
              "    <tr>\n",
              "      <td>?</td>\n",
              "      <td>Some-college</td>\n",
              "      <td>Never-married</td>\n",
              "      <td>?</td>\n",
              "      <td>Own-child</td>\n",
              "      <td>White</td>\n",
              "      <td>False</td>\n",
              "      <td>-1.2158</td>\n",
              "      <td>0.0514</td>\n",
              "      <td>-0.0312</td>\n",
              "      <td>&lt;50k</td>\n",
              "    </tr>\n",
              "    <tr>\n",
              "      <td>Private</td>\n",
              "      <td>Bachelors</td>\n",
              "      <td>Married-civ-spouse</td>\n",
              "      <td>Tech-support</td>\n",
              "      <td>Husband</td>\n",
              "      <td>White</td>\n",
              "      <td>False</td>\n",
              "      <td>0.1036</td>\n",
              "      <td>0.5514</td>\n",
              "      <td>1.1422</td>\n",
              "      <td>&gt;=50k</td>\n",
              "    </tr>\n",
              "    <tr>\n",
              "      <td>Private</td>\n",
              "      <td>Assoc-voc</td>\n",
              "      <td>Never-married</td>\n",
              "      <td>Prof-specialty</td>\n",
              "      <td>Unmarried</td>\n",
              "      <td>White</td>\n",
              "      <td>False</td>\n",
              "      <td>-0.4095</td>\n",
              "      <td>-0.1966</td>\n",
              "      <td>0.3599</td>\n",
              "      <td>&lt;50k</td>\n",
              "    </tr>\n",
              "    <tr>\n",
              "      <td>Private</td>\n",
              "      <td>HS-grad</td>\n",
              "      <td>Married-civ-spouse</td>\n",
              "      <td>Craft-repair</td>\n",
              "      <td>Wife</td>\n",
              "      <td>Black</td>\n",
              "      <td>False</td>\n",
              "      <td>0.0303</td>\n",
              "      <td>2.4129</td>\n",
              "      <td>-0.4224</td>\n",
              "      <td>&lt;50k</td>\n",
              "    </tr>\n",
              "    <tr>\n",
              "      <td>Private</td>\n",
              "      <td>Bachelors</td>\n",
              "      <td>Never-married</td>\n",
              "      <td>Sales</td>\n",
              "      <td>Not-in-family</td>\n",
              "      <td>White</td>\n",
              "      <td>False</td>\n",
              "      <td>0.1036</td>\n",
              "      <td>-1.4670</td>\n",
              "      <td>1.1422</td>\n",
              "      <td>&lt;50k</td>\n",
              "    </tr>\n",
              "    <tr>\n",
              "      <td>Self-emp-inc</td>\n",
              "      <td>Some-college</td>\n",
              "      <td>Divorced</td>\n",
              "      <td>Sales</td>\n",
              "      <td>Not-in-family</td>\n",
              "      <td>White</td>\n",
              "      <td>False</td>\n",
              "      <td>1.0564</td>\n",
              "      <td>0.5874</td>\n",
              "      <td>-0.0312</td>\n",
              "      <td>&gt;=50k</td>\n",
              "    </tr>\n",
              "  </tbody>\n",
              "</table>"
            ],
            "text/plain": [
              "<IPython.core.display.HTML object>"
            ]
          },
          "metadata": {
            "tags": []
          }
        }
      ]
    },
    {
      "cell_type": "code",
      "metadata": {
        "id": "vu2X7LGT61K6",
        "colab_type": "code",
        "outputId": "c4303243-0f68-4df6-bc42-f5f050f612bd",
        "colab": {
          "base_uri": "https://localhost:8080/",
          "height": 326
        }
      },
      "source": [
        "final_data.sanity_check"
      ],
      "execution_count": 0,
      "outputs": [
        {
          "output_type": "execute_result",
          "data": {
            "text/plain": [
              "<bound method DataBunch.sanity_check of TabularDataBunch;\n",
              "\n",
              "Train: LabelList (32361 items)\n",
              "x: TabularList\n",
              "workclass  Private; education  Assoc-acdm; marital-status  Married-civ-spouse; occupation #na#; relationship  Wife; race  White; education-num_na False; age 0.7632; fnlwgt -0.8381; education-num 0.7511; ,workclass  Private; education  Masters; marital-status  Divorced; occupation  Exec-managerial; relationship  Not-in-family; race  White; education-num_na False; age 0.3968; fnlwgt 0.4458; education-num 1.5334; ,workclass  Private; education  HS-grad; marital-status  Divorced; occupation #na#; relationship  Unmarried; race  Black; education-num_na True; age -0.0430; fnlwgt -0.8868; education-num -0.0312; ,workclass  Self-emp-inc; education  Prof-school; marital-status  Married-civ-spouse; occupation  Prof-specialty; relationship  Husband; race  Asian-Pac-Islander; education-num_na False; age -0.0430; fnlwgt -0.7288; education-num 1.9245; ,workclass  Self-emp-not-inc; education  7th-8th; marital-status  Married-civ-spouse; occupation  Other-service; relationship  Wife; race  Black; education-num_na True; age 0.2502; fnlwgt -1.0185; education-num -0.0312; \n",
              "y: CategoryList\n",
              ">=50k,>=50k,<50k,>=50k,<50k\n",
              "Path: /root/.fastai/data/adult_sample;\n",
              "\n",
              "Valid: LabelList (200 items)\n",
              "x: TabularList\n",
              "workclass  Private; education  Some-college; marital-status  Divorced; occupation  Handlers-cleaners; relationship  Unmarried; race  White; education-num_na True; age 0.4701; fnlwgt -0.8793; education-num -0.0312; ,workclass  Self-emp-inc; education  Prof-school; marital-status  Married-civ-spouse; occupation  Prof-specialty; relationship  Husband; race  White; education-num_na True; age 0.5434; fnlwgt 0.0290; education-num -0.0312; ,workclass  Private; education  Assoc-voc; marital-status  Divorced; occupation #na#; relationship  Not-in-family; race  White; education-num_na True; age -0.1896; fnlwgt 1.7704; education-num -0.0312; ,workclass  Federal-gov; education  Bachelors; marital-status  Never-married; occupation  Tech-support; relationship  Not-in-family; race  White; education-num_na True; age -0.9959; fnlwgt -1.3242; education-num -0.0312; ,workclass  Private; education  Bachelors; marital-status  Married-civ-spouse; occupation #na#; relationship  Husband; race  White; education-num_na True; age -0.1163; fnlwgt -0.2389; education-num -0.0312; \n",
              "y: CategoryList\n",
              "<50k,>=50k,<50k,<50k,<50k\n",
              "Path: /root/.fastai/data/adult_sample;\n",
              "\n",
              "Test: None>"
            ]
          },
          "metadata": {
            "tags": []
          },
          "execution_count": 67
        }
      ]
    },
    {
      "cell_type": "markdown",
      "metadata": {
        "id": "X-OjryPKYXJ8",
        "colab_type": "text"
      },
      "source": [
        "This data is now in a format that can be sent to a Learner Module. "
      ]
    }
  ]
}